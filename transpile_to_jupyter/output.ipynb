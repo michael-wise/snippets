{
 "cells": [
  {
   "cell_type": "code",
   "execution_count": 0,
   "metadata": {},
   "outputs": [],
   "source": [
    "print(\"This is just a little proof of concept. I like the idea of parsing scripts/programs into segments.\")\n",
    "print(\"There are some things I'd like to try with it later.\")\n",
    "print(\"In this project, some_python_code.py is split into cells within a jupyter notebook.\")\n"
   ]
  },
  {
   "cell_type": "code",
   "execution_count": 0,
   "metadata": {},
   "outputs": [],
   "source": [
    "print(\"The § symbols are part of utf-8 encoding (represented by '\\\\u00a7' in python)\")\n",
    "print(\"Unfortunately Windows Jupyter (or others?) doesn't seem to display utf-8 encode text\")\n",
    "print(\"Which is unfortunate, since python is capable of utf-8.\")\n",
    "print(\"Anyways, I used them because I think it's strange we don't use more symbols in code.\")\n",
    "print(\"It can be a dangerous road to go down, but there are probably big benefits to it if done appropriately.\")\n"
   ]
  },
  {
   "cell_type": "code",
   "execution_count": 0,
   "metadata": {},
   "outputs": [],
   "source": [
    "print(\"transpile_to_jupyter.py is what does the parsing. It uses machienry in the jupyter nb lib to create this notebook.\")\n",
    "print(\"transpile_to_jupyter just looks for the commented section symbols and generates a python\"\n",
    "      \"notebook with cells\")\n"
   ]
  },
  {
   "cell_type": "code",
   "execution_count": 0,
   "metadata": {},
   "outputs": [],
   "source": [
    "print(\"It is not outfitted with much anything. Notice it even picks up empty lines at the end of the source file\")\n",
    "\n",
    "\n",
    "\n"
   ]
  }
 ],
 "metadata": {},
 "nbformat": 4,
 "nbformat_minor": 2
}
